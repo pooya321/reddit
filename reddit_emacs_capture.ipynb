{
 "cells": [
  {
   "cell_type": "code",
   "execution_count": 1,
   "metadata": {},
   "outputs": [],
   "source": [
    "#import libraries\n",
    "import time\n",
    "import praw\n",
    "import pandas as pd\n",
    "import datetime as dt\n",
    "import tldextract,tld\n",
    "from tld import get_tld\n",
    "from datetime import datetime"
   ]
  },
  {
   "cell_type": "code",
   "execution_count": 2,
   "metadata": {},
   "outputs": [],
   "source": [
    "#setup an API \n",
    "reddit = praw.Reddit(client_id='',client_secret='',user_agent='',username='',password='')\n",
    "#capture hot posts from r/moview subreddit\n",
    "subreddit = reddit.subreddit('emacs')\n",
    "top_subreddit = subreddit.new(limit=1000)"
   ]
  },
  {
   "cell_type": "code",
   "execution_count": 3,
   "metadata": {},
   "outputs": [],
   "source": [
    "#create a dictionary to put each data in a specific variable\n",
    "post_dict = { \"title\":[],\"id\":[],\"author\":[],\"url\":[],\"score\":[],\"comments_number\": [],\"created\": [],\"award\":[]}\n",
    "\n",
    "for result in top_subreddit:\n",
    "    post_dict[\"title\"].append(result.title)\n",
    "    post_dict[\"id\"].append(result.id)\n",
    "    post_dict[\"author\"].append(result.author)\n",
    "    post_dict[\"url\"].append(result.url)\n",
    "    post_dict[\"score\"].append(result.score)\n",
    "    post_dict[\"comments_number\"].append(result.num_comments)\n",
    "    post_dict[\"created\"].append(result.created)\n",
    "    post_dict[\"award\"].append(result.total_awards_received) "
   ]
  },
  {
   "cell_type": "code",
   "execution_count": 4,
   "metadata": {},
   "outputs": [],
   "source": [
    "#create a dataset from the dictionary\n",
    "df_emacs= pd.DataFrame(post_dict)"
   ]
  },
  {
   "cell_type": "code",
   "execution_count": 5,
   "metadata": {},
   "outputs": [],
   "source": [
    "#check the directory,if not exist create a new directory to save the datasets\n",
    "from pathlib import Path\n",
    "Path(\"C://reddit\").mkdir(parents=True, exist_ok=True)"
   ]
  },
  {
   "cell_type": "code",
   "execution_count": 6,
   "metadata": {},
   "outputs": [],
   "source": [
    "#save dataset into csv file\n",
    "df_emacs.to_csv (r'C:/reddit/df_emacs.csv', index = False, header=True)"
   ]
  },
  {
   "cell_type": "code",
   "execution_count": null,
   "metadata": {},
   "outputs": [],
   "source": []
  },
  {
   "cell_type": "code",
   "execution_count": null,
   "metadata": {},
   "outputs": [],
   "source": []
  },
  {
   "cell_type": "code",
   "execution_count": null,
   "metadata": {},
   "outputs": [],
   "source": []
  },
  {
   "cell_type": "code",
   "execution_count": null,
   "metadata": {},
   "outputs": [],
   "source": []
  }
 ],
 "metadata": {
  "kernelspec": {
   "display_name": "Python 3",
   "language": "python",
   "name": "python3"
  },
  "language_info": {
   "codemirror_mode": {
    "name": "ipython",
    "version": 3
   },
   "file_extension": ".py",
   "mimetype": "text/x-python",
   "name": "python",
   "nbconvert_exporter": "python",
   "pygments_lexer": "ipython3",
   "version": "3.8.3"
  }
 },
 "nbformat": 4,
 "nbformat_minor": 4
}
